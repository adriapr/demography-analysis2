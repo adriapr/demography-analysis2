{
 "metadata": {
  "name": "",
  "signature": "sha256:fa32b39f07e27422109c1c85354f0650a5badec65731950c11511e16737b77cd"
 },
 "nbformat": 3,
 "nbformat_minor": 0,
 "worksheets": [
  {
   "cells": [
    {
     "cell_type": "code",
     "collapsed": false,
     "input": [
      "#from IPython.display import display\n",
      "#from IPython.display import HTML\n",
      "#import IPython.core.display as di # Example: di.display_html('<h3>%s:</h3>' % str, raw=True)\n",
      "\n",
      "## This line will hide code by default when the notebook is exported as HTML\n",
      "#di.display_html('<script>jQuery(function() {if (jQuery(\"body.notebook_app\").length == 0) { jQuery(\".input_area\").toggle(); jQuery(\".prompt\").toggle();}});</script>', raw=True)\n",
      "\n",
      "## This line will add a button to toggle visibility of code blocks, for use with the HTML export version\n",
      "#di.display_html('''<button onclick=\"jQuery('.input_area').toggle(); jQuery('.prompt').toggle();\">Toggle code</button>''', raw=True)"
     ],
     "language": "python",
     "metadata": {},
     "outputs": [],
     "prompt_number": 2
    },
    {
     "cell_type": "code",
     "collapsed": false,
     "input": [
      "%run demographic_functions.py\n",
      "\n",
      "# plot figures inline in the IPython notebook\n",
      "%matplotlib inline\n",
      "plt.rcParams['figure.figsize'] = (20, 8)"
     ],
     "language": "python",
     "metadata": {},
     "outputs": [],
     "prompt_number": 3
    },
    {
     "cell_type": "heading",
     "level": 2,
     "metadata": {},
     "source": [
      "Load and prepare data"
     ]
    },
    {
     "cell_type": "code",
     "collapsed": false,
     "input": [
      "%run demographic_functions.py\n",
      "strFileNacimientos = './data/corrected/bautismos.csv'\n",
      "strFileDefunciones = './data/corrected/defunciones.csv'\n",
      "\n",
      "nacimientosOriginal = csvToDicList(strFileNacimientos)\n",
      "defuncionesOriginal = csvToDicList(strFileDefunciones)\n",
      "\n",
      "nacimientos = createNacimientos( nacimientosOriginal )\n",
      "defunciones = createDefunciones( defuncionesOriginal )"
     ],
     "language": "python",
     "metadata": {},
     "outputs": [
      {
       "output_type": "stream",
       "stream": "stdout",
       "text": [
        "\n",
        "\n",
        " -< Archivo: ./data/corrected/bautismos.csv >-\n",
        " -< Nunero de entradas: 5244 >-\n",
        " -< Numero de campos:   28 >-\n",
        "\n",
        "    CAMPO       | # Entradas | # Ent. UNICAS | Ent. MAS COMUN (#)\n",
        "-----------------------------------------------------------------\n",
        "APELL1          |       5228 |          461  | ( 381) RODRIGUEZ  \n",
        "APELL2          |       5224 |          569  | ( 306) RODRIGUEZ  \n",
        "APELL2MAD       |       5224 |         1264  | (  96) SANCHO  \n",
        "APELL2PAD       |       5229 |         1131  | ( 167) RODRIGUEZ  \n",
        "APELLMADRINA    |       3802 |          477  | ( 295) RODRIGUEZ  \n",
        "APELLPADRINO    |       3723 |          480  | ( 426) RODRIGUEZ  \n",
        "BAUTISMO        |       1118 |         1095  | (   3) 4.7.1839  \n",
        "ID              |       5244 |         5244  | (   1) 1934  \n",
        "NACIMIENTO      |       5240 |         4969  | (   4) 3.7.1839  \n",
        "NMADRINA        |       3800 |          191  | ( 600) MARIA  \n",
        "NOMBRE          |       5225 |         2135  | ( 243) MANUEL  \n",
        "NOMMADRE        |       5215 |          158  | (1007) MARIA  \n",
        "NOMPADRE        |       5223 |          107  | ( 784) JOSE  \n",
        "NPADRINO        |       3724 |          139  | ( 686) JOSE  \n",
        "OBSERVACN       |       1800 |         1427  | (  27) (1) ABUELOS PATERNOS SE IGNORAN  \n",
        "OFICIOMAD       |          0 |\n",
        "OFICIOPAD       |        534 |           35  | ( 404) LABRADOR  \n",
        "OFMADRINA       |          8 |            7  | (   2) CRIADA DEL GOVERNADOR  \n",
        "OFPADRINO       |        333 |          108  | (  51) CIRUJANO  \n",
        "ORIGEN          |          8 |            6  | (   3) PARVULO  \n",
        "ORIGMAD         |         55 |           37  | (   4) CASTELLNOU  \n",
        "ORIGPAD         |         25 |           18  | (   4) (1)  \n",
        "PARENTESCM      |        870 |          231  | ( 321) DONCELLA  \n",
        "PARENTESCP      |        899 |           77  | ( 240) MANCEBO  \n",
        "SEXO            |       5238 |            3  | (2724) HOMBRE  \n",
        "VECINDPAD       |          2 |            2  | (   1) ALCUBLAS  \n",
        "VECMADRINA      |        109 |           47  | (  20) ALXIMIA  \n",
        "VECPADRINO      |        112 |           55  | (  18) ALXIMIA  \n",
        "-----------------------------------------------------------------\n",
        "\n",
        "\n",
        " -< Archivo: ./data/corrected/defunciones.csv >-"
       ]
      },
      {
       "output_type": "stream",
       "stream": "stdout",
       "text": [
        "\n",
        " -< Nunero de entradas: 4331 >-\n",
        " -< Numero de campos:   29 >-\n",
        "\n",
        "    CAMPO       | # Entradas | # Ent. UNICAS | Ent. MAS COMUN (#)\n",
        "-----------------------------------------------------------------\n",
        "ALBACEDEF       |        471 |          401  | (  18) EL RETOR  \n",
        "APELL1          |       3115 |          440  | ( 244) RODRIGUEZ  \n",
        "APELL2          |       1341 |          212  | ( 128) RODRIGUEZ  \n",
        "APELL2MAD       |       2246 |          315  | ( 186) RODRIGUEZ  \n",
        "APELL2PAD       |       2483 |          282  | ( 222) RODRIGUEZ  \n",
        "CONYGE1         |       1275 |          899  | (  17) D  \n",
        "DEFUNCION       |       3704 |         3466  | (   4) 25 1 1803  \n",
        "ECIVCONY1       |       1193 |           13  | ( 787) ESP  \n",
        "ENTERRAMIE      |       3155 |         2856  | (  11) 25  \n",
        "ESTADCIVIL      |          2 |            2  | (   1) \n",
        "  \n",
        "ID              |       4329 |         4315  | (   2) 2026  \n",
        "LIBRAS          |         31 |            9  | (   7) 20  \n",
        "NOMBRE          |       3950 |          539  | ( 295) JOSE  \n",
        "NOMMADRE        |       2429 |          143  | ( 454) MARIA  \n",
        "NOMPADRE        |       2664 |           97  | ( 402) JOSE  \n",
        "NOTARIO1        |         40 |           29  | (   9) LABRADOR  \n",
        "OBSERVACN       |       2407 |         1548  | ( 131) IG  \n",
        "OFICIO          |        324 |           32  | ( 144) LABRADOR  \n",
        "OFICIOMAD       |          3 |            3  | (   1) DE LA PTE DE S JUAN DE VCIA  \n",
        "OFICIOPAD       |        235 |           36  | ( 109) LABRADORES  \n",
        "ORIGEN          |          0 |\n",
        "ORIGPAD         |          9 |            6  | (   3) ALGIMIA  \n",
        "SEXO            |       3923 |            8  | (2030) HOMBRE  \n",
        "SUELDOS         |          4 |            3  | (   2) 0  \n",
        "TESTIGDEF       |       1312 |          439  | ( 545) EL PARROCO  \n",
        "TIPO            |        340 |           48  | ( 262) POBRE  \n",
        "VECINDAD        |        750 |           58  | ( 621) \u00c7  \n",
        "VECINDPAD       |         18 |            6  | (  11) \u00c7  \n",
        "edatTEXT        |       2650 |          176  | (1524) P  \n",
        "-----------------------------------------------------------------\n",
        "  ---- Creando diccionario de nacimientos ----\n",
        "  ---- Creando diccionario de defunciones ----"
       ]
      },
      {
       "output_type": "stream",
       "stream": "stdout",
       "text": [
        "\n"
       ]
      }
     ],
     "prompt_number": 4
    },
    {
     "cell_type": "heading",
     "level": 2,
     "metadata": {},
     "source": [
      "Merge records"
     ]
    },
    {
     "cell_type": "code",
     "collapsed": false,
     "input": [
      "merged = mergePeople(nacimientos, defunciones)"
     ],
     "language": "python",
     "metadata": {},
     "outputs": [
      {
       "output_type": "stream",
       "stream": "stdout",
       "text": [
        "\n",
        "  ---- Creando personas (matching nacimientos y defuncion) ----\n",
        "Numero de matchings: 2008"
       ]
      },
      {
       "output_type": "stream",
       "stream": "stdout",
       "text": [
        "\n"
       ]
      }
     ],
     "prompt_number": 5
    },
    {
     "cell_type": "heading",
     "level": 2,
     "metadata": {},
     "source": [
      "Show field info"
     ]
    },
    {
     "cell_type": "code",
     "collapsed": false,
     "input": [
      "printMostCommon([n['edadTexto'] for n in defunciones], 25)"
     ],
     "language": "python",
     "metadata": {},
     "outputs": [
      {
       "output_type": "stream",
       "stream": "stdout",
       "text": [
        "\n",
        "Valores mas comunes\n",
        "1681 : \n",
        "1509 : p\n",
        " 389 : a\n",
        " 156 : n\n",
        "  82 : alb\n",
        "  54 : hf\n",
        "  24 : rn\n",
        "  23 : 2\n",
        "  19 : 1\n",
        "  16 : d\n",
        "  15 : P\n",
        "  10 : my\n",
        "   9 : ni\u00f1a\n",
        "   8 : 4\n",
        "   7 : 18m\n",
        "   7 : ni\u00f1o\n",
        "   7 : 73\n",
        "   7 : 70\n",
        "   6 : 5\n",
        "   6 : 3\n",
        "   6 : mn\n",
        "   6 : 8m\n",
        "   5 : 75\n",
        "   5 : 20\n",
        "   5 : 68\n"
       ]
      }
     ],
     "prompt_number": 6
    },
    {
     "cell_type": "code",
     "collapsed": false,
     "input": [
      "print([n['edad'] for n in merged if n['edadTexto'] == 'Alb'])"
     ],
     "language": "python",
     "metadata": {},
     "outputs": [
      {
       "output_type": "stream",
       "stream": "stdout",
       "text": [
        "[]\n"
       ]
      }
     ],
     "prompt_number": 7
    },
    {
     "cell_type": "heading",
     "level": 1,
     "metadata": {},
     "source": [
      "Child mortality"
     ]
    },
    {
     "cell_type": "code",
     "collapsed": false,
     "input": [
      "%run demographic_functions.py\n",
      "childMotality( nacimientos, defunciones )"
     ],
     "language": "python",
     "metadata": {},
     "outputs": [
      {
       "output_type": "stream",
       "stream": "stderr",
       "text": [
        "/media/adria/HDD/visdata/demography-analysis/2_merging_test/demographic_functions.py:908: RuntimeWarning: divide by zero encountered in true_divide\n",
        "  ratio = hDeaths[0] / hBirths[0] * 100\n",
        "/media/adria/HDD/visdata/demography-analysis/2_merging_test/demographic_functions.py:908: RuntimeWarning: invalid value encountered in true_divide\n",
        "  ratio = hDeaths[0] / hBirths[0] * 100\n"
       ]
      },
      {
       "metadata": {},
       "output_type": "display_data",
       "png": "[encoded data removed]",
       "text": [
        "<matplotlib.figure.Figure at 0x7f715b3e15f8>"
       ]
      },
      {
       "metadata": {},
       "output_type": "display_data",
       "png": "[encoded data removed]",
       "text": [
        "<matplotlib.figure.Figure at 0x7f7158532128>"
       ]
      }
     ],
     "prompt_number": 8
    },
    {
     "cell_type": "heading",
     "level": 2,
     "metadata": {},
     "source": [
      "Name of the village"
     ]
    },
    {
     "cell_type": "code",
     "collapsed": false,
     "input": [
      "%run demographic_functions.py\n",
      "getAlmonecirMentions( nacimientos, defunciones )"
     ],
     "language": "python",
     "metadata": {},
     "outputs": [
      {
       "output_type": "stream",
       "stream": "stdout",
       "text": [
        "\n",
        "-- Nombres mas comunes del pueblo --\n",
        "\n",
        "      Almonacir: 27\n",
        "       Almoncir: 5\n",
        "            Ayr: 5\n",
        "      Almonazir: 3\n",
        "       Balmonte: 2\n",
        "         Ayrada: 1\n",
        "      Almonezir: 1\n",
        "      Almonecir: 1\n",
        "       Almoneda: 1\n"
       ]
      },
      {
       "metadata": {},
       "output_type": "display_data",
       "png": "[encoded data removed]",
       "text": [
        "<matplotlib.figure.Figure at 0x7f71584487f0>"
       ]
      }
     ],
     "prompt_number": 9
    },
    {
     "cell_type": "heading",
     "level": 1,
     "metadata": {},
     "source": [
      "Most common names"
     ]
    },
    {
     "cell_type": "code",
     "collapsed": false,
     "input": [
      "%run demographic_functions.py\n",
      "#printMostCommon([n['nombreAjustado'] for n in nacimientos], 25)\n",
      "#printMostCommon([n['nombre'] for n in nacimientos], 25)\n",
      "commonNames( nacimientos, 10, False )\n",
      "# commonNames( nacimientos, 10, True )"
     ],
     "language": "python",
     "metadata": {},
     "outputs": [
      {
       "ename": "NameError",
       "evalue": "name 'nacimientos' is not defined",
       "output_type": "pyerr",
       "traceback": [
        "\u001b[0;31m---------------------------------------------------------------------------\u001b[0m\n\u001b[0;31mNameError\u001b[0m                                 Traceback (most recent call last)",
        "\u001b[0;32m<ipython-input-1-cddbca0cfc1b>\u001b[0m in \u001b[0;36m<module>\u001b[0;34m()\u001b[0m\n\u001b[1;32m      2\u001b[0m \u001b[0;31m#printMostCommon([n['nombreAjustado'] for n in nacimientos], 25)\u001b[0m\u001b[0;34m\u001b[0m\u001b[0;34m\u001b[0m\u001b[0m\n\u001b[1;32m      3\u001b[0m \u001b[0;31m#printMostCommon([n['nombre'] for n in nacimientos], 25)\u001b[0m\u001b[0;34m\u001b[0m\u001b[0;34m\u001b[0m\u001b[0m\n\u001b[0;32m----> 4\u001b[0;31m \u001b[0mcommonNames\u001b[0m\u001b[0;34m(\u001b[0m \u001b[0mnacimientos\u001b[0m\u001b[0;34m,\u001b[0m \u001b[0;36m10\u001b[0m\u001b[0;34m,\u001b[0m \u001b[0;32mFalse\u001b[0m \u001b[0;34m)\u001b[0m\u001b[0;34m\u001b[0m\u001b[0m\n\u001b[0m\u001b[1;32m      5\u001b[0m \u001b[0;31m# commonNames( nacimientos, 10, True )\u001b[0m\u001b[0;34m\u001b[0m\u001b[0;34m\u001b[0m\u001b[0m\n",
        "\u001b[0;31mNameError\u001b[0m: name 'nacimientos' is not defined"
       ]
      }
     ],
     "prompt_number": 1
    },
    {
     "cell_type": "heading",
     "level": 1,
     "metadata": {},
     "source": [
      "Number of births and deaths per year"
     ]
    },
    {
     "cell_type": "code",
     "collapsed": false,
     "input": [
      "fig = showDistributionByDecade( [p['nacimientoEstimado'].year for p in merged], 'A\u00f1o', 'Nacimientos (merged)', None, (0.66,0.87,0.71, 1) )\n",
      "fig = showDistributionByDecade( [n['nacimientoEstimado'].year for n in nacimientos], 'A\u00f1o', 'Nacimientos', fig, (0.66,0.87,0.71, 0.4) )\n",
      "\n",
      "fig = showDistributionByDecade( [p['defuncionEstimado'].year for p in merged], 'A\u00f1o', 'Defunciones (merged)', None, (1.00, 0.60, 0.15, 1) )\n",
      "fig = showDistributionByDecade( [n['defuncionEstimado'].year for n in defunciones], 'A\u00f1o', 'Defunciones', fig, (1.00, 0.60, 0.15, 0.4) )"
     ],
     "language": "python",
     "metadata": {},
     "outputs": []
    },
    {
     "cell_type": "code",
     "collapsed": false,
     "input": [
      "%run demographic_functions.py\n",
      "fig = showDistributionByDecade( [n['nacimientoEstimado'].year for n in nacimientos], 'Decada', 'Numero', None, (0.66,0.87,0.71, 0.5), 9, [1660, 1850] )\n",
      "fig = showDistributionByDecade( [n['defuncionEstimado'].year for n in defunciones], 'Decada', 'Numero', fig, (0.95,0.6,0.55, 1), 7, [1660, 1850] )\n",
      "birth_patch = mpatches.Patch(color=(0.66,0.87,0.71, 1), label='Nacimientos')\n",
      "death_patch = mpatches.Patch(color=(0.95,0.6,0.55, 1), label='Defunciones')\n",
      "plt.legend(handles=[birth_patch, death_patch], loc='best', frameon=False)"
     ],
     "language": "python",
     "metadata": {},
     "outputs": []
    },
    {
     "cell_type": "code",
     "collapsed": false,
     "input": [
      "%run demographic_functions.py\n",
      "fig = showDistributionByDecade( [n['nacimientoEstimado'].year for n in merged], 'Decada', 'Numero', None, (0.66,0.87,0.71, 0.5), 9 )\n",
      "fig = showDistributionByDecade( [n['defuncionEstimado'].year for n in merged], 'Decada', 'Numero', fig, (0.95,0.6,0.55, 1), 7 )\n",
      "birth_patch = mpatches.Patch(color=(0.66,0.87,0.71, 1), label='Nacimientos')\n",
      "death_patch = mpatches.Patch(color=(0.95,0.6,0.55, 1), label='Defunciones')\n",
      "plt.legend(handles=[birth_patch, death_patch], loc='best', frameon=False)"
     ],
     "language": "python",
     "metadata": {},
     "outputs": []
    },
    {
     "cell_type": "code",
     "collapsed": false,
     "input": [
      "foo = showDistributionByDecade( [p['nacimientoEstimado'].year for p in merged], 'A\u00f1o', 'Nacimientos (merged)', None, (0.66,0.87,0.71, 0.7) )\n",
      "foo = showDistributionByDecade( [p['defuncionEstimado'].year for p in merged], 'A\u00f1o', 'Defunciones (merged)', fig, (1.00, 0.60, 0.15, 0.7) )"
     ],
     "language": "python",
     "metadata": {},
     "outputs": []
    },
    {
     "cell_type": "heading",
     "level": 2,
     "metadata": {},
     "source": [
      "Deaths by age"
     ]
    },
    {
     "cell_type": "code",
     "collapsed": false,
     "input": [
      "%run demographic_functions.py\n",
      "plotDeathAgeStatistics( merged, True )"
     ],
     "language": "python",
     "metadata": {},
     "outputs": []
    },
    {
     "cell_type": "heading",
     "level": 2,
     "metadata": {},
     "source": [
      "Events by Year (binned in decades)"
     ]
    },
    {
     "cell_type": "code",
     "collapsed": false,
     "input": [
      "plotEventByYear( merged, 'nacimientoEstimado', 'Nacimientos' )"
     ],
     "language": "python",
     "metadata": {},
     "outputs": []
    },
    {
     "cell_type": "code",
     "collapsed": false,
     "input": [
      "plotEventByYear( merged, 'defuncionEstimado', 'Defunciones' )"
     ],
     "language": "python",
     "metadata": {},
     "outputs": []
    },
    {
     "cell_type": "heading",
     "level": 2,
     "metadata": {},
     "source": [
      "Events by month"
     ]
    },
    {
     "cell_type": "code",
     "collapsed": false,
     "input": [
      "plotEventByMonth( merged, 'nacimientoEstimado', 'Naciminentos' )"
     ],
     "language": "python",
     "metadata": {},
     "outputs": []
    },
    {
     "cell_type": "code",
     "collapsed": false,
     "input": [
      "plotEventByMonth( merged, 'defuncionEstimado', 'Numero de defunciones' )"
     ],
     "language": "python",
     "metadata": {},
     "outputs": []
    },
    {
     "cell_type": "heading",
     "level": 1,
     "metadata": {},
     "source": [
      "TO CLEAN DATA"
     ]
    },
    {
     "cell_type": "code",
     "collapsed": false,
     "input": [
      "%run demographic_functions.py\n",
      "#outputNamesToCleanData( nacimientos, defunciones )"
     ],
     "language": "python",
     "metadata": {},
     "outputs": []
    },
    {
     "cell_type": "code",
     "collapsed": false,
     "input": [
      "%run demographic_functions.py\n",
      "# print( nacimientos[0])\n",
      "outputStrangeDates( nacimientos, defunciones )"
     ],
     "language": "python",
     "metadata": {},
     "outputs": []
    },
    {
     "cell_type": "code",
     "collapsed": false,
     "input": [
      "%run demographic_functions.py\n",
      "# print( nacimientos[0])\n",
      "printMostCommon( [d['padreOficio'] for d in nacimientos] )\n",
      "\n",
      "printMostCommon( [d['oficio'] for d in defunciones] )"
     ],
     "language": "python",
     "metadata": {},
     "outputs": []
    },
    {
     "cell_type": "code",
     "collapsed": false,
     "input": [],
     "language": "python",
     "metadata": {},
     "outputs": []
    }
   ],
   "metadata": {}
  }
 ]
}